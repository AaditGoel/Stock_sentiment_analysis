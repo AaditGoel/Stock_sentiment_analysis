{
  "nbformat": 4,
  "nbformat_minor": 0,
  "metadata": {
    "colab": {
      "provenance": [],
      "authorship_tag": "ABX9TyOr5NYBDs5Ef0zNuFjKfaSh",
      "include_colab_link": true
    },
    "kernelspec": {
      "name": "python3",
      "display_name": "Python 3"
    },
    "language_info": {
      "name": "python"
    }
  },
  "cells": [
    {
      "cell_type": "markdown",
      "metadata": {
        "id": "view-in-github",
        "colab_type": "text"
      },
      "source": [
        "<a href=\"https://colab.research.google.com/github/AaditGoel/Stock_sentiment_analysis/blob/main/Stock_prediction_ML.ipynb\" target=\"_parent\"><img src=\"https://colab.research.google.com/assets/colab-badge.svg\" alt=\"Open In Colab\"/></a>"
      ]
    },
    {
      "cell_type": "code",
      "execution_count": null,
      "metadata": {
        "id": "O-19nGCb1_NA"
      },
      "outputs": [],
      "source": [
        "def get_history(df,ticker):\n",
        "  import yfinance as yf\n",
        "  import requests\n",
        "  import datetime\n",
        "  import pandas as pd\n",
        "\n",
        "\n",
        "  # Ticker = 'AAPL'\n",
        "  E_date = df.iloc[0]['Date']\n",
        "  # print(E_date)\n",
        "  S_date = df.iloc[-1]['Date']\n",
        "  # print(S_date)\n",
        "\n",
        "  stock_data = yf.Ticker(ticker)\n",
        "  hist = stock_data.history(start=S_date,end=E_date)\n",
        "  hist = pd.DataFrame(hist)\n",
        "  hist.columns = [col.lower() for col in hist.columns]\n",
        "\n",
        "  return hist\n"
      ]
    },
    {
      "cell_type": "code",
      "source": [
        "def get_data(ticker,date):\n",
        "  import requests\n",
        "  import pandas as pd\n",
        "  from datetime import datetime\n",
        "  API_KEY = '0QDiceo5dB9bg9Ttmhu2RAdCBHNKsADN'\n",
        "\n",
        "  # DATE = datetime.strptime(date, '%Y-%m-%d')\n",
        "  # END_DATE = datetime.strptime(date-relativedelta(year=1), '%Y-%m-%d')\n",
        "\n",
        "  url = f'https://api.polygon.io/v2/reference/news?ticker={ticker}&published_utc.lte={date}&limit=1000&apiKey={API_KEY}'\n",
        "\n",
        "  response = requests.get(url)\n",
        "  # data = response.json()\n",
        "  if response.status_code == 200:\n",
        "      try:\n",
        "          data = response.json()\n",
        "      except ValueError as e:\n",
        "          print(f\"Error decoding JSON for {ticker} on {date}: {e}\")\n",
        "          print(\"Response content:\", response.text)\n",
        "          return None  # Return None to indicate failure\n",
        "  else:\n",
        "      print(f\"API request failed for {ticker} on {date} with status code: {response.status_code}\")\n",
        "      return None\n",
        "\n",
        "\n",
        "  news_data = {}\n",
        "\n",
        "  for article in data['results']:\n",
        "      date_uf = article['published_utc']\n",
        "      date_obj = datetime.strptime(date_uf, '%Y-%m-%dT%H:%M:%SZ')\n",
        "      date_only = date_obj.date()\n",
        "\n",
        "\n",
        "      if date_only not in news_data:\n",
        "              news_data[date_only] = []\n",
        "              news_data[date_only].append({\n",
        "              'title': article['title'],\n",
        "          })\n",
        "\n",
        "\n",
        "  news_data_list = [{'Date': date, 'articles': articles} for date, articles in news_data.items()]\n",
        "\n",
        "\n",
        "  df = pd.DataFrame(news_data_list)\n",
        "  hist = get_history(df,ticker)\n",
        "\n",
        "  hist.index = pd.to_datetime(hist.index).tz_localize(None)\n",
        "  hist = hist.reset_index()\n",
        "\n",
        "  df = df.set_index('Date')\n",
        "  hist = hist.set_index('Date')\n",
        "\n",
        "  merged_df = df.join(hist, how='inner')\n",
        "  merged_df = merged_df.reset_index()\n",
        "\n",
        "  return merged_df"
      ],
      "metadata": {
        "id": "OVqFTo8q2CNH"
      },
      "execution_count": null,
      "outputs": []
    },
    {
      "cell_type": "code",
      "source": [
        "def extract_title(row):\n",
        "    if len(row['articles']) > 0:\n",
        "        return row['articles'][0]['title']\n",
        "    else:\n",
        "        return None"
      ],
      "metadata": {
        "id": "2hCE1bw52IgI"
      },
      "execution_count": null,
      "outputs": []
    },
    {
      "cell_type": "code",
      "source": [
        "import nltk\n",
        "nltk.download('punkt')\n",
        "nltk.download('stopwords')"
      ],
      "metadata": {
        "id": "IIaWtBpv3jB4",
        "colab": {
          "base_uri": "https://localhost:8080/"
        },
        "outputId": "efdec68f-c04b-44e9-9d4d-89ef58567cdd"
      },
      "execution_count": null,
      "outputs": [
        {
          "output_type": "stream",
          "name": "stderr",
          "text": [
            "[nltk_data] Downloading package punkt to /root/nltk_data...\n",
            "[nltk_data]   Unzipping tokenizers/punkt.zip.\n",
            "[nltk_data] Downloading package stopwords to /root/nltk_data...\n",
            "[nltk_data]   Unzipping corpora/stopwords.zip.\n"
          ]
        },
        {
          "output_type": "execute_result",
          "data": {
            "text/plain": [
              "True"
            ]
          },
          "metadata": {},
          "execution_count": 4
        }
      ]
    },
    {
      "cell_type": "code",
      "source": [
        "nltk.download('vader_lexicon')"
      ],
      "metadata": {
        "id": "E6LUeIYr3tc1",
        "colab": {
          "base_uri": "https://localhost:8080/"
        },
        "outputId": "31b8e525-e126-4c8e-d5f7-b8fd83faa3d4"
      },
      "execution_count": null,
      "outputs": [
        {
          "output_type": "stream",
          "name": "stderr",
          "text": [
            "[nltk_data] Downloading package vader_lexicon to /root/nltk_data...\n"
          ]
        },
        {
          "output_type": "execute_result",
          "data": {
            "text/plain": [
              "True"
            ]
          },
          "metadata": {},
          "execution_count": 5
        }
      ]
    },
    {
      "cell_type": "code",
      "source": [
        "from nltk.sentiment.vader import SentimentIntensityAnalyzer\n",
        "from nltk import sent_tokenize\n",
        "sid = SentimentIntensityAnalyzer()\n",
        "\n",
        "# Function to calculate sentiment scores for each sentence and aggregate them\n",
        "def get_aggregated_sentiment(text):\n",
        "    sentences = sent_tokenize(text)\n",
        "    compound_scores = [sid.polarity_scores(sentence)['compound'] for sentence in sentences]\n",
        "    if compound_scores:\n",
        "        return sum(compound_scores) / len(compound_scores)\n",
        "    else:\n",
        "        return 0"
      ],
      "metadata": {
        "id": "VAShOI6O2M-2"
      },
      "execution_count": null,
      "outputs": []
    },
    {
      "cell_type": "code",
      "source": [
        "from textblob import TextBlob\n",
        "\n",
        "def get_subjectivity(text):\n",
        "    return TextBlob(text).sentiment.subjectivity\n",
        "\n",
        "def get_polarity(text):\n",
        "    return TextBlob(text).sentiment.polarity"
      ],
      "metadata": {
        "id": "8mQCL6Dd2ULa"
      },
      "execution_count": null,
      "outputs": []
    },
    {
      "cell_type": "code",
      "source": [
        "# from datetime import datetime\n",
        "# import pandas as pd\n",
        "# from dateutil.relativedelta import relativedelta\n",
        "# tickers = ['GOOGL']\n",
        "# date = '2024-06-16'\n",
        "\n",
        "# # CURR_DATE.strftime('%Y-%m-%d')\n",
        "# dfs1 = []\n",
        "# for ticker in tickers:\n",
        "#   i=0\n",
        "#   while i<8:\n",
        "#     df = get_data(ticker,date)\n",
        "#     dfs1.append(df)\n",
        "\n",
        "#     d = datetime.strptime(date, '%Y-%m-%d')  # Convert string to datetime object\n",
        "#     d = d - relativedelta(months=4)\n",
        "#     Date = datetime.strftime(d, '%Y-%m-%d')  # Format datetime object to string\n",
        "#     date = Date\n",
        "#     i+=1\n",
        "\n",
        "\n",
        "# combined_df1 = pd.concat(dfs1, ignore_index=True)\n",
        "# print(combined_df1)"
      ],
      "metadata": {
        "id": "xZ9azKBn2XtZ"
      },
      "execution_count": null,
      "outputs": []
    },
    {
      "cell_type": "code",
      "source": [
        "# tickers = ['MSFT']\n",
        "# import pandas as pd\n",
        "# date = '2022-11-19'\n",
        "\n",
        "# # CURR_DATE.strftime('%Y-%m-%d')\n",
        "# dfs2 = []\n",
        "# for ticker in tickers:\n",
        "#   i=0\n",
        "#   while i<2:\n",
        "#     df = get_data(ticker,date)\n",
        "#     dfs2.append(df)\n",
        "\n",
        "#     d = datetime.strptime(date, '%Y-%m-%d')  # Convert string to datetime object\n",
        "#     d = d - relativedelta(months=4)\n",
        "#     Date = datetime.strftime(d, '%Y-%m-%d')  # Format datetime object to string\n",
        "#     date = Date\n",
        "#     i+=1\n",
        "\n",
        "\n",
        "# combined_df2 = pd.concat(dfs2, ignore_index=True)\n",
        "# print(combined_df2)"
      ],
      "metadata": {
        "id": "eh1oFtYl2cHu"
      },
      "execution_count": null,
      "outputs": []
    },
    {
      "cell_type": "code",
      "source": [
        "# tickers = ['AMZN']\n",
        "# date = '2022-04-01'\n",
        "# import pandas as pd\n",
        "# # CURR_DATE.strftime('%Y-%m-%d')\n",
        "# dfs3 = []\n",
        "# for ticker in tickers:\n",
        "#   i=0\n",
        "#   while i<2:\n",
        "#     df = get_data(ticker,date)\n",
        "#     dfs3.append(df)\n",
        "\n",
        "#     d = datetime.strptime(date, '%Y-%m-%d')  # Convert string to datetime object\n",
        "#     d = d - relativedelta(months=4)\n",
        "#     Date = datetime.strftime(d, '%Y-%m-%d')  # Format datetime object to string\n",
        "#     date = Date\n",
        "#     i+=1\n",
        "\n",
        "\n",
        "# combined_df3 = pd.concat(dfs3, ignore_index=True)\n",
        "# print(combined_df3)"
      ],
      "metadata": {
        "id": "QjubqVhG2gAZ"
      },
      "execution_count": null,
      "outputs": []
    },
    {
      "cell_type": "code",
      "source": [
        "# import pandas as pd\n",
        "# from datetime import datetime\n",
        "# from dateutil.relativedelta import relativedelta\n",
        "# tickers = ['AMZN']\n",
        "# date = '2021-11-01'\n",
        "\n",
        "# # CURR_DATE.strftime('%Y-%m-%d')\n",
        "# dfs = []\n",
        "# for ticker in tickers:\n",
        "#   i=0\n",
        "#   while i<2:\n",
        "#     df = get_data(ticker,date)\n",
        "#     dfs.append(df)\n",
        "\n",
        "#     d = datetime.strptime(date, '%Y-%m-%d')  # Convert string to datetime object\n",
        "#     d = d - relativedelta(months=4)\n",
        "#     Date = datetime.strftime(d, '%Y-%m-%d')  # Format datetime object to string\n",
        "#     date = Date\n",
        "#     i+=1\n",
        "\n",
        "\n",
        "# combined_df4 = pd.concat(dfs, ignore_index=True)\n",
        "# print(combined_df4)"
      ],
      "metadata": {
        "id": "lUJMr5bR2jwS"
      },
      "execution_count": null,
      "outputs": []
    },
    {
      "cell_type": "code",
      "source": [
        "# DF1 = [combined_df1,combined_df2,combined_df3,combined_df4]\n",
        "# data1 = pd.concat(DF1,ignore_index=True)\n",
        "# data1 = data1.sort_values('Date')\n",
        "# data1 = data1.reset_index(drop=True)\n",
        "# print(data1)"
      ],
      "metadata": {
        "id": "9ADVn0QG2m8m"
      },
      "execution_count": null,
      "outputs": []
    },
    {
      "cell_type": "code",
      "source": [
        "# data1['price_change'] = data1['close'].diff()\n",
        "# data1['label'] = (data1['price_change'] > 0).astype(int)\n",
        "# data1['label'].iloc[0] = 0\n",
        "# data1 = data1.drop(columns=['price_change'])"
      ],
      "metadata": {
        "id": "4QwXsOh32s-O"
      },
      "execution_count": null,
      "outputs": []
    },
    {
      "cell_type": "code",
      "source": [
        "# data1['news'] = data1.apply(extract_title, axis=1)\n",
        "# data1 = data1.drop(columns=['articles'])"
      ],
      "metadata": {
        "id": "02iOGU4W2w13"
      },
      "execution_count": null,
      "outputs": []
    },
    {
      "cell_type": "code",
      "source": [
        "# # FOR GENERATING TEST DATA\n",
        "# test_data_df = combined_df2\n",
        "# test_data_df['price_change'] = test_data_df['close'].diff()\n",
        "# test_data_df['label'] = (test_data_df['price_change'] > 0).astype(int)\n",
        "# test_data_df['label'].iloc[0] = 0\n",
        "# test_data_df = test_data_df.drop(columns=['price_change'])\n",
        "# test_data_df['news'] = test_data_df.apply(extract_title, axis=1)\n",
        "# test_data_df = test_data_df.drop(columns=['articles'])\n",
        "\n",
        "# excel_file_path = 'S:\\Fin_club_ML_Project\\Test_data.xlsx'\n",
        "\n",
        "# # Create a Pandas Excel writer using XlsxWriter as the engine\n",
        "# with pd.ExcelWriter(excel_file_path, engine='xlsxwriter') as writer:\n",
        "#     # Write the DataFrame to the Excel sheet named 'Sheet1'\n",
        "#     test_data_df.to_excel(writer, sheet_name='Sheet1', index=False)\n",
        "\n",
        "# print(f\"Data written to {excel_file_path}\")"
      ],
      "metadata": {
        "id": "ItMIL3LF20Kj"
      },
      "execution_count": null,
      "outputs": []
    },
    {
      "cell_type": "code",
      "source": [
        "# excel_file_path = 'S:\\Fin_club_ML_Project\\stock_data3.xlsx'\n",
        "\n",
        "# # Create a Pandas Excel writer using XlsxWriter as the engine\n",
        "# with pd.ExcelWriter(excel_file_path, engine='xlsxwriter') as writer:\n",
        "#     # Write the DataFrame to the Excel sheet named 'Sheet1'\n",
        "#     data1.to_excel(writer, sheet_name='Sheet1', index=False)\n",
        "\n",
        "# print(f\"Data written to {excel_file_path}\")"
      ],
      "metadata": {
        "id": "ukObWiJR23Y6"
      },
      "execution_count": null,
      "outputs": []
    },
    {
      "cell_type": "code",
      "source": [
        "# data1['sentiment'] = data1['news'].apply(get_aggregated_sentiment)"
      ],
      "metadata": {
        "id": "yByYV23V27J-"
      },
      "execution_count": null,
      "outputs": []
    },
    {
      "cell_type": "code",
      "source": [
        "import re\n",
        "def remove_pattern(text,pattern):\n",
        "    r = re.findall(pattern,text)\n",
        "    for i in r:\n",
        "        text = re.sub(i,\"\",text)\n",
        "    return text"
      ],
      "metadata": {
        "id": "2gQMZ9Xx6ZLl"
      },
      "execution_count": null,
      "outputs": []
    },
    {
      "cell_type": "code",
      "source": [
        "def replace_characters(input_string, chars_to_replace):\n",
        "    pattern = f\"[{''.join(re.escape(char) for char in chars_to_replace)}]\"\n",
        "    return re.sub(pattern, ' ', input_string)\n"
      ],
      "metadata": {
        "id": "Pgzn9ooA8uRJ"
      },
      "execution_count": null,
      "outputs": []
    },
    {
      "cell_type": "code",
      "source": [
        "from nltk.corpus import stopwords\n",
        "from nltk.tokenize import word_tokenize\n",
        "stop_words = set(stopwords.words('english'))\n",
        "\n",
        "\n",
        "def remove_stopwords(text):\n",
        "    tokens = word_tokenize(text)\n",
        "    filtered_tokens = [word for word in tokens if word.lower() not in stop_words]\n",
        "    processed_text = ' '.join(filtered_tokens)\n",
        "    return processed_text"
      ],
      "metadata": {
        "id": "LtKmwEjYBP_f"
      },
      "execution_count": null,
      "outputs": []
    },
    {
      "cell_type": "code",
      "source": [
        "import pandas as pd\n",
        "import numpy as np\n",
        "df1 = pd.read_excel(r'/stock_data.xlsx')\n",
        "df2 = pd.read_excel(r'/stock_data2.xlsx')\n",
        "df3 = pd.read_excel(r'/stock_data3.xlsx')\n",
        "\n",
        "dfs = [df1,df2,df3]\n",
        "\n",
        "chars_to_replace = ['@','?','-','--',';',':',',','\"','—']\n",
        "for df in dfs:\n",
        "  df['news'] = df['news'].astype('string')\n",
        "  df['news'] = np.vectorize(remove_pattern)(df['news'], \"@*\")\n",
        "  df['news'] = df['news'].apply(lambda x: replace_characters(x, chars_to_replace))\n",
        "  df['news'] = df['news'].apply(remove_stopwords)\n",
        "  # df.head(10)\n",
        "  print(df['news'].head())"
      ],
      "metadata": {
        "id": "BxLbZ0Cf2_oU",
        "colab": {
          "base_uri": "https://localhost:8080/"
        },
        "outputId": "270e7ca3-b889-48f2-853d-6aa1fe7e9a46"
      },
      "execution_count": null,
      "outputs": [
        {
          "output_type": "stream",
          "name": "stdout",
          "text": [
            "0    Stock Market Power Rankings YouTube Catches So...\n",
            "1                   Apple Makes Money iPhones Services\n",
            "2                                  Facebook Make Money\n",
            "3                          Much YouTube Worth Alphabet\n",
            "4    Dow Plunges 500 Points September Slump Enters ...\n",
            "Name: news, dtype: object\n",
            "0    2 Top Ranked Cheap Stocks Buy Highs Strong Q1 ...\n",
            "1                            Tech Sector Money Machine\n",
            "2    Amazon Crushes Earnings 3x YOY Twitter Sags DA...\n",
            "3           3 Stocks Buy May Economic Reopening Growth\n",
            "4                Facebook Stock Jumped 10 % Last Month\n",
            "Name: news, dtype: object\n",
            "0                 Straight Answers Investing Questions\n",
            "1    Amazon.com Reportedly Floating Massive $ 18.5 ...\n",
            "2    Apple pushes back Epic claims defend app payme...\n",
            "3    Big US chains offering perks lure back service...\n",
            "4                Inverse ETFs Play Decline Tech Sector\n",
            "Name: news, dtype: object\n"
          ]
        }
      ]
    },
    {
      "cell_type": "code",
      "source": [
        "#%%\n",
        "for df in dfs:\n",
        "    df['sentiment'] = df['news'].apply(get_aggregated_sentiment)\n",
        "    df.drop(columns=['dividends','stock splits'])\n",
        "    df['subjectivity'] = df['news'].apply(get_subjectivity)\n",
        "    df['polarity'] = df['news'].apply(get_polarity)\n",
        "    print(df.columns)\n",
        "    print(df.shape)"
      ],
      "metadata": {
        "id": "ApFv8SH43Dbx",
        "colab": {
          "base_uri": "https://localhost:8080/"
        },
        "outputId": "5ecfad49-e0f7-4659-c974-fd1e43238245"
      },
      "execution_count": null,
      "outputs": [
        {
          "output_type": "stream",
          "name": "stdout",
          "text": [
            "Index(['Date', 'open', 'high', 'low', 'close', 'volume', 'dividends',\n",
            "       'stock splits', 'label', 'news', 'sentiment', 'subjectivity',\n",
            "       'polarity'],\n",
            "      dtype='object')\n",
            "(700, 13)\n",
            "Index(['Date', 'open', 'high', 'low', 'close', 'volume', 'dividends',\n",
            "       'stock splits', 'label', 'news', 'sentiment', 'subjectivity',\n",
            "       'polarity'],\n",
            "      dtype='object')\n",
            "(442, 13)\n",
            "Index(['Date', 'open', 'high', 'low', 'close', 'volume', 'dividends',\n",
            "       'stock splits', 'label', 'news', 'sentiment', 'subjectivity',\n",
            "       'polarity'],\n",
            "      dtype='object')\n",
            "(418, 13)\n"
          ]
        }
      ]
    },
    {
      "cell_type": "code",
      "source": [
        "#%%\n",
        "# import pandas as pd\n",
        "# test_data = pd.read_excel(r'S:\\Fin_club_ML_Project\\Test_data.xlsx')\n",
        "# test_data['sentiment'] = test_data['news'].apply(get_aggregated_sentiment)\n",
        "# test_data.drop(columns=['dividends','stock splits'])\n",
        "# test_data['subjectivity'] = test_data['news'].apply(get_subjectivity)\n",
        "# test_data['polarity'] = test_data['news'].apply(get_polarity)\n",
        "# test_data.to_csv('updated_test_data.csv', index=False)\n",
        "\n",
        "#%%\n",
        "# import pandas as pd\n",
        "# test_data = pd.read_csv(r'S:\\Fin_club_ML_Project\\updated_test_data.csv')\n",
        "# keep = ['open','high','low','close','volume','label','sentiment','subjectivity','polarity']\n",
        "# test_data = test_data[keep]\n",
        "# excel_file_path = 'S:\\Fin_club_ML_Project\\Final_TEST_DATA.xlsx'\n",
        "\n",
        "# # Create a Pandas Excel writer using XlsxWriter as the engine\n",
        "# with pd.ExcelWriter(excel_file_path, engine='xlsxwriter') as writer:\n",
        "#     # Write the DataFrame to the Excel sheet named 'Sheet1'\n",
        "#     test_data.to_excel(writer, sheet_name='Sheet1', index=False)\n",
        "\n",
        "# print(f\"Data written to {excel_file_path}\")"
      ],
      "metadata": {
        "id": "4-ozlUMY3G8B"
      },
      "execution_count": null,
      "outputs": []
    },
    {
      "cell_type": "code",
      "source": [
        "import numpy as np\n",
        "import pandas as pd\n",
        "from sklearn.model_selection import train_test_split\n",
        "from sklearn.svm import SVC\n",
        "from sklearn.ensemble import RandomForestClassifier\n",
        "from sklearn.linear_model import LogisticRegression\n",
        "from sklearn.metrics import accuracy_score, classification_report\n",
        "import xgboost as xgb\n",
        "import matplotlib.pyplot as plt\n",
        "feature_cols = ['open','high','low','close','volume','sentiment','subjectivity','polarity']\n",
        "test_cols = ['label']\n",
        "\n",
        "svm_model = SVC(kernel='linear', random_state=42)\n",
        "log_reg_model = LogisticRegression(random_state=42)\n",
        "rf_model = RandomForestClassifier(n_estimators=100, random_state=42)\n",
        "xgb_model = xgb.XGBClassifier(use_label_encoder=False, eval_metric='logloss')\n"
      ],
      "metadata": {
        "id": "8KU_GD2T3KWB"
      },
      "execution_count": null,
      "outputs": []
    },
    {
      "cell_type": "code",
      "source": [
        "\n",
        "test_df = pd.read_excel(r'/test .xlsx')"
      ],
      "metadata": {
        "id": "ZPV2BYAP_CP4"
      },
      "execution_count": null,
      "outputs": []
    },
    {
      "cell_type": "code",
      "source": [
        "test_df['sentiment'] = test_df['news'].apply(get_aggregated_sentiment)\n",
        "test_df.drop(columns=['dividends','stock splits'])\n",
        "test_df['subjectivity'] = test_df['news'].apply(get_subjectivity)\n",
        "test_df['polarity'] = test_df['news'].apply(get_polarity)\n"
      ],
      "metadata": {
        "id": "g0kMr0Qr_K3U"
      },
      "execution_count": null,
      "outputs": []
    },
    {
      "cell_type": "code",
      "source": [
        "X_test = test_df[feature_cols]\n",
        "Y_test = test_df[test_cols]\n"
      ],
      "metadata": {
        "id": "vDCWpfUeFw7G"
      },
      "execution_count": null,
      "outputs": []
    },
    {
      "cell_type": "code",
      "source": [
        "for df in dfs:\n",
        "  X = df[feature_cols]\n",
        "  y = df[test_cols]\n",
        "  log_reg_model.fit(X, y)\n",
        "  rf_model.fit(X, y)\n",
        "  xgb_model.fit(X,y)\n"
      ],
      "metadata": {
        "colab": {
          "base_uri": "https://localhost:8080/"
        },
        "id": "3SIZ-1EbGJq4",
        "outputId": "e89e27e5-ccdb-46ce-9cdd-4b56988cd829"
      },
      "execution_count": null,
      "outputs": [
        {
          "output_type": "stream",
          "name": "stderr",
          "text": [
            "/usr/local/lib/python3.10/dist-packages/sklearn/utils/validation.py:1143: DataConversionWarning: A column-vector y was passed when a 1d array was expected. Please change the shape of y to (n_samples, ), for example using ravel().\n",
            "  y = column_or_1d(y, warn=True)\n",
            "<ipython-input-28-447089d53bd5>:5: DataConversionWarning: A column-vector y was passed when a 1d array was expected. Please change the shape of y to (n_samples,), for example using ravel().\n",
            "  rf_model.fit(X, y)\n",
            "/usr/local/lib/python3.10/dist-packages/sklearn/utils/validation.py:1143: DataConversionWarning: A column-vector y was passed when a 1d array was expected. Please change the shape of y to (n_samples, ), for example using ravel().\n",
            "  y = column_or_1d(y, warn=True)\n",
            "<ipython-input-28-447089d53bd5>:5: DataConversionWarning: A column-vector y was passed when a 1d array was expected. Please change the shape of y to (n_samples,), for example using ravel().\n",
            "  rf_model.fit(X, y)\n",
            "/usr/local/lib/python3.10/dist-packages/sklearn/utils/validation.py:1143: DataConversionWarning: A column-vector y was passed when a 1d array was expected. Please change the shape of y to (n_samples, ), for example using ravel().\n",
            "  y = column_or_1d(y, warn=True)\n",
            "<ipython-input-28-447089d53bd5>:5: DataConversionWarning: A column-vector y was passed when a 1d array was expected. Please change the shape of y to (n_samples,), for example using ravel().\n",
            "  rf_model.fit(X, y)\n"
          ]
        }
      ]
    },
    {
      "cell_type": "code",
      "source": [
        "xgb_predictions = xgb_model.predict(X_test)\n",
        "print(\"XGBoost Accuracy:\", accuracy_score(Y_test, xgb_predictions))\n",
        "print(\"XGBoost Classification Report:\\n\", classification_report(Y_test, xgb_predictions))"
      ],
      "metadata": {
        "colab": {
          "base_uri": "https://localhost:8080/"
        },
        "id": "eCKS-EkQOj41",
        "outputId": "61182089-2f43-456b-c4bd-58928a2af4f7"
      },
      "execution_count": null,
      "outputs": [
        {
          "output_type": "stream",
          "name": "stdout",
          "text": [
            "XGBoost Accuracy: 0.5382775119617225\n",
            "XGBoost Classification Report:\n",
            "               precision    recall  f1-score   support\n",
            "\n",
            "           0       0.56      0.52      0.54       216\n",
            "           1       0.52      0.56      0.54       202\n",
            "\n",
            "    accuracy                           0.54       418\n",
            "   macro avg       0.54      0.54      0.54       418\n",
            "weighted avg       0.54      0.54      0.54       418\n",
            "\n"
          ]
        }
      ]
    },
    {
      "cell_type": "code",
      "source": [
        "xgb_predictions"
      ],
      "metadata": {
        "colab": {
          "base_uri": "https://localhost:8080/"
        },
        "id": "-znAjEc0FuA5",
        "outputId": "7b0a71a3-9494-4872-8c26-21235672ca22"
      },
      "execution_count": null,
      "outputs": [
        {
          "output_type": "execute_result",
          "data": {
            "text/plain": [
              "array([0, 0, 1, 0, 1, 1, 1, 0, 1, 1, 0, 1, 1, 1, 0, 0, 0, 1, 0, 0, 0, 1,\n",
              "       1, 1, 0, 1, 0, 1, 1, 0, 0, 1, 0, 0, 0, 1, 1, 0, 1, 0, 0, 0, 1, 1,\n",
              "       0, 0, 0, 1, 1, 1, 0, 0, 0, 0, 0, 0, 0, 1, 1, 0, 0, 1, 1, 1, 1, 1,\n",
              "       0, 0, 1, 0, 0, 1, 1, 1, 0, 1, 1, 0, 0, 1, 1, 0, 0, 0, 0, 0, 1, 1,\n",
              "       1, 0, 1, 0, 0, 0, 0, 1, 0, 0, 0, 1, 1, 1, 1, 1, 1, 1, 1, 1, 1, 1,\n",
              "       0, 0, 0, 0, 1, 0, 0, 1, 1, 0, 1, 1, 1, 0, 0, 1, 0, 1, 1, 0, 0, 0,\n",
              "       0, 1, 1, 0, 1, 1, 0, 1, 1, 0, 0, 1, 0, 1, 1, 1, 1, 1, 0, 1, 0, 1,\n",
              "       1, 0, 1, 0, 1, 1, 0, 0, 0, 1, 1, 1, 0, 0, 1, 0, 0, 1, 0, 1, 0, 1,\n",
              "       0, 1, 1, 1, 0, 0, 1, 0, 0, 0, 0, 0, 1, 1, 0, 1, 1, 0, 1, 0, 1, 1,\n",
              "       0, 0, 0, 0, 0, 1, 0, 0, 1, 1, 1, 1, 1, 1, 0, 0, 0, 1, 1, 0, 1, 1,\n",
              "       1, 0, 1, 1, 1, 0, 0, 0, 0, 0, 0, 1, 1, 1, 1, 1, 1, 0, 1, 0, 1, 0,\n",
              "       0, 1, 1, 0, 0, 1, 1, 1, 1, 1, 1, 1, 1, 0, 1, 1, 1, 1, 0, 0, 0, 1,\n",
              "       0, 1, 1, 0, 1, 1, 1, 1, 0, 1, 0, 1, 1, 0, 1, 1, 0, 0, 0, 1, 0, 1,\n",
              "       0, 0, 0, 1, 1, 1, 1, 0, 0, 1, 1, 1, 0, 1, 0, 0, 0, 0, 0, 0, 0, 1,\n",
              "       0, 0, 0, 1, 1, 0, 1, 0, 1, 1, 1, 1, 1, 0, 1, 0, 0, 0, 1, 0, 0, 0,\n",
              "       0, 1, 1, 1, 1, 1, 0, 0, 0, 1, 1, 0, 1, 1, 1, 1, 1, 0, 0, 1, 1, 0,\n",
              "       0, 1, 0, 1, 0, 0, 1, 0, 1, 0, 1, 1, 1, 0, 1, 0, 1, 1, 1, 1, 1, 0,\n",
              "       0, 0, 0, 0, 0, 1, 1, 0, 0, 1, 1, 0, 1, 1, 1, 1, 1, 0, 1, 0, 0, 1,\n",
              "       0, 0, 1, 0, 0, 0, 0, 0, 1, 0, 0, 0, 1, 1, 1, 1, 0, 1, 1, 0, 0, 0])"
            ]
          },
          "metadata": {},
          "execution_count": 30
        }
      ]
    },
    {
      "cell_type": "code",
      "source": [
        "xgb_predictions_df = pd.DataFrame(xgb_predictions, columns=['Y_predicted'])\n",
        "# Concatenate the Y_test values as a column named 'Y_test'\n",
        "Y_t = pd.DataFrame(Y_test.values, columns=['Y_test'])\n",
        "df_plot = pd.concat([test_df.head(10), Y_t.head(10), xgb_predictions_df.head(10)], axis=1)\n",
        "\n",
        "# Plotting\n",
        "plt.figure(figsize=(12, 6))\n",
        "plt.plot(df_plot['Date'], df_plot['Y_test'], label='Y_test', marker='o') # Now df_plot has the 'Y_test' column\n",
        "plt.plot(df_plot['Date'], df_plot['Y_predicted'], label='Y_predicted', marker='x')\n",
        "plt.xlabel('Date')\n",
        "plt.ylabel('Values')\n",
        "plt.title('Y_test vs Y_predicted')\n",
        "plt.legend()\n",
        "plt.grid(True)\n",
        "plt.show()"
      ],
      "metadata": {
        "colab": {
          "base_uri": "https://localhost:8080/",
          "height": 486
        },
        "id": "uhGsipqCIfEF",
        "outputId": "dc66f233-860e-410e-e0fa-fe529d28819a"
      },
      "execution_count": null,
      "outputs": [
        {
          "output_type": "display_data",
          "data": {
            "text/plain": [
              "<Figure size 1200x600 with 1 Axes>"
            ],
            "image/png": "[encoded data removed]"
          },
          "metadata": {}
        }
      ]
    },
    {
      "cell_type": "code",
      "source": [
        "log_reg_predictions = log_reg_model.predict(X_test)\n",
        "print(\"Logistic Regression Accuracy:\", accuracy_score(Y_test, log_reg_predictions))\n",
        "print(\"Logistic Regression Classification Report:\\n\", classification_report(Y_test, log_reg_predictions))"
      ],
      "metadata": {
        "colab": {
          "base_uri": "https://localhost:8080/"
        },
        "id": "JCkmn0tGDoc_",
        "outputId": "b22a18ae-49d1-4273-dc1d-d6c7cba83ac4"
      },
      "execution_count": null,
      "outputs": [
        {
          "output_type": "stream",
          "name": "stdout",
          "text": [
            "Logistic Regression Accuracy: 0.48325358851674644\n",
            "Logistic Regression Classification Report:\n",
            "               precision    recall  f1-score   support\n",
            "\n",
            "           0       0.00      0.00      0.00       216\n",
            "           1       0.48      1.00      0.65       202\n",
            "\n",
            "    accuracy                           0.48       418\n",
            "   macro avg       0.24      0.50      0.33       418\n",
            "weighted avg       0.23      0.48      0.31       418\n",
            "\n"
          ]
        },
        {
          "output_type": "stream",
          "name": "stderr",
          "text": [
            "/usr/local/lib/python3.10/dist-packages/sklearn/metrics/_classification.py:1344: UndefinedMetricWarning: Precision and F-score are ill-defined and being set to 0.0 in labels with no predicted samples. Use `zero_division` parameter to control this behavior.\n",
            "  _warn_prf(average, modifier, msg_start, len(result))\n",
            "/usr/local/lib/python3.10/dist-packages/sklearn/metrics/_classification.py:1344: UndefinedMetricWarning: Precision and F-score are ill-defined and being set to 0.0 in labels with no predicted samples. Use `zero_division` parameter to control this behavior.\n",
            "  _warn_prf(average, modifier, msg_start, len(result))\n",
            "/usr/local/lib/python3.10/dist-packages/sklearn/metrics/_classification.py:1344: UndefinedMetricWarning: Precision and F-score are ill-defined and being set to 0.0 in labels with no predicted samples. Use `zero_division` parameter to control this behavior.\n",
            "  _warn_prf(average, modifier, msg_start, len(result))\n"
          ]
        }
      ]
    },
    {
      "cell_type": "code",
      "source": [
        "log_reg_predictions_df = pd.DataFrame(log_reg_predictions, columns=['Y_predicted'])\n",
        "# Concatenate the Y_test values as a column named 'Y_test'\n",
        "Y_t = pd.DataFrame(Y_test.values, columns=['Y_test'])\n",
        "df_plot = pd.concat([test_df.head(10), Y_t.head(10), log_reg_predictions_df.head(10)], axis=1)\n",
        "\n",
        "# Plotting\n",
        "plt.figure(figsize=(12, 6))\n",
        "plt.plot(df_plot['Date'], df_plot['Y_test'], label='Y_test', marker='o') # Now df_plot has the 'Y_test' column\n",
        "plt.plot(df_plot['Date'], df_plot['Y_predicted'], label='Y_predicted', marker='x')\n",
        "plt.xlabel('Date')\n",
        "plt.ylabel('Values')\n",
        "plt.title('Y_test vs Y_predicted')\n",
        "plt.legend()\n",
        "plt.grid(True)\n",
        "plt.show()"
      ],
      "metadata": {
        "colab": {
          "base_uri": "https://localhost:8080/",
          "height": 486
        },
        "id": "oYXDdIgNI0z9",
        "outputId": "bae51e8b-2610-46c2-e8d9-f8f6aaef4c0d"
      },
      "execution_count": null,
      "outputs": [
        {
          "output_type": "display_data",
          "data": {
            "text/plain": [
              "<Figure size 1200x600 with 1 Axes>"
            ],
            "image/png": "[encoded data removed]"
          },
          "metadata": {}
        }
      ]
    },
    {
      "cell_type": "code",
      "source": [
        "rf_predictions = rf_model.predict(X_test)\n",
        "print(\"Random Forest Accuracy:\", accuracy_score(Y_test, rf_predictions))\n",
        "print(\"Random Forest Classification Report:\\n\", classification_report(Y_test, rf_predictions))"
      ],
      "metadata": {
        "colab": {
          "base_uri": "https://localhost:8080/"
        },
        "id": "1IoOxWfCEzPr",
        "outputId": "1a4895f5-4446-4bc1-86f7-fb0245308e60"
      },
      "execution_count": null,
      "outputs": [
        {
          "output_type": "stream",
          "name": "stdout",
          "text": [
            "Random Forest Accuracy: 0.5502392344497608\n",
            "Random Forest Classification Report:\n",
            "               precision    recall  f1-score   support\n",
            "\n",
            "           0       0.57      0.53      0.55       216\n",
            "           1       0.53      0.57      0.55       202\n",
            "\n",
            "    accuracy                           0.55       418\n",
            "   macro avg       0.55      0.55      0.55       418\n",
            "weighted avg       0.55      0.55      0.55       418\n",
            "\n"
          ]
        }
      ]
    },
    {
      "cell_type": "code",
      "source": [
        "rf_predictions_df = pd.DataFrame(rf_predictions, columns=['Y_predicted'])\n",
        "# Concatenate the Y_test values as a column named 'Y_test'\n",
        "Y_t = pd.DataFrame(Y_test.values, columns=['Y_test'])\n",
        "df_plot = pd.concat([test_df.head(10), Y_t.head(10), rf_predictions_df.head(10)], axis=1)\n",
        "\n",
        "# Plotting\n",
        "plt.figure(figsize=(12, 6))\n",
        "plt.plot(df_plot['Date'], df_plot['Y_test'], label='Y_test', marker='o') # Now df_plot has the 'Y_test' column\n",
        "plt.plot(df_plot['Date'], df_plot['Y_predicted'], label='Y_predicted', marker='x')\n",
        "plt.xlabel('Date')\n",
        "plt.ylabel('Values')\n",
        "plt.title('Y_test vs Y_predicted')\n",
        "plt.legend()\n",
        "plt.grid(True)\n",
        "plt.show()"
      ],
      "metadata": {
        "colab": {
          "base_uri": "https://localhost:8080/",
          "height": 486
        },
        "id": "7e8u56o2I-oc",
        "outputId": "1a140919-2b1f-42d1-a06b-88a4ca17ef35"
      },
      "execution_count": null,
      "outputs": [
        {
          "output_type": "display_data",
          "data": {
            "text/plain": [
              "<Figure size 1200x600 with 1 Axes>"
            ],
            "image/png": "[encoded data removed]"
          },
          "metadata": {}
        }
      ]
    },
    {
      "cell_type": "code",
      "source": [
        "import numpy as np\n",
        "import pandas as pd\n",
        "from sklearn.preprocessing import MinMaxScaler\n",
        "from sklearn.model_selection import train_test_split\n",
        "from tensorflow.keras.models import Sequential\n",
        "from tensorflow.keras.layers import LSTM, Dense, Dropout\n",
        "from tensorflow.keras.utils import to_categorical\n",
        "import matplotlib.pyplot as plt\n",
        "from tensorflow.keras.optimizers import Adam\n",
        "from sklearn.metrics import classification_report, confusion_matrix\n",
        "time_steps=1\n"
      ],
      "metadata": {
        "id": "Eg97LLNZyne0"
      },
      "execution_count": null,
      "outputs": []
    },
    {
      "cell_type": "code",
      "source": [
        "# Function to preprocess the data\n",
        "def preprocess_data(df, time_step=10):\n",
        "    df['Date'] = pd.to_datetime(df['Date'])\n",
        "    df.set_index('Date', inplace=True)\n",
        "    features = df[['open', 'high', 'close', 'sentiment', 'polarity', 'subjectivity']]\n",
        "    labels = df['label']\n",
        "    scaler = MinMaxScaler(feature_range=(0, 1))\n",
        "    scaled_features = scaler.fit_transform(features)\n",
        "    X, y = create_sequences(scaled_features, labels, time_step)\n",
        "    y = to_categorical(y)\n",
        "    return X, y, scaler\n",
        "\n",
        "# Function to create sequences\n",
        "def create_sequences(data, labels, time_step=1):\n",
        "    X, y = [], []\n",
        "    for i in range(len(data) - time_step):\n",
        "        X.append(data[i:(i + time_step)])\n",
        "        y.append(labels[i + time_step])\n",
        "    return np.array(X), np.array(y)\n",
        "\n",
        "# Function to build the LSTM model\n",
        "def build_lstm_model(input_shape, num_classes):\n",
        "    model = Sequential()\n",
        "    model.add(LSTM(50, return_sequences=True, input_shape=input_shape))\n",
        "    model.add(LSTM(50, return_sequences=False))\n",
        "    model.add(Dense(1, activation='relu'))\n",
        "    model.add(Dense(num_classes, activation='softmax'))\n",
        "    learning_rate = 0.000000001\n",
        "    optimizer = Adam(learning_rate=learning_rate)\n",
        "    model.compile(optimizer='adam', loss='categorical_crossentropy', metrics=['accuracy'])\n",
        "\n",
        "    # model = Sequential()\n",
        "    # model.add(LSTM(units=50, return_sequences=True, input_shape=input_shape))\n",
        "    # model.add(Dropout(0.2))\n",
        "    # model.add(LSTM(units=50, return_sequences=False))\n",
        "    # model.add(Dropout(0.2))\n",
        "    # model.add(Dense(units=1, activation='sigmoid'))\n",
        "    # # Compile the model with the chosen optimizer and learning rate\n",
        "    # learning_rate = 0.001\n",
        "    # optimizer = Adam(learning_rate=learning_rate)\n",
        "    # model.compile(optimizer=optimizer, loss='binary_crossentropy', metrics=['accuracy'])\n",
        "\n",
        "    return model\n"
      ],
      "metadata": {
        "id": "5tUZMqmZvImH"
      },
      "execution_count": null,
      "outputs": []
    },
    {
      "cell_type": "code",
      "source": [
        "# List of DataFrames\n",
        "# dfs = [df1, df2, df3]\n",
        "\n",
        "model = None\n",
        "\n",
        "for i, df in enumerate(dfs):\n",
        "    print(f\"Training on DataFrame {i+1}...\")\n",
        "    X, y, scaler = preprocess_data(df)\n",
        "    if model is None:\n",
        "        model = build_lstm_model((X.shape[1], X.shape[2]), y.shape[1])\n",
        "    else:\n",
        "        model.compile(optimizer='adam', loss='categorical_crossentropy', metrics=['accuracy'])\n",
        "\n",
        "    model.fit(X, y, batch_size=64, epochs=10, validation_split=0.1)\n",
        "\n",
        "\n"
      ],
      "metadata": {
        "colab": {
          "base_uri": "https://localhost:8080/"
        },
        "id": "90eQKIQ4ypzY",
        "outputId": "0706ca8c-377e-42d0-e34d-e3a0997c6ba7"
      },
      "execution_count": null,
      "outputs": [
        {
          "output_type": "stream",
          "name": "stdout",
          "text": [
            "Training on DataFrame 1...\n",
            "Epoch 1/10\n",
            "10/10 [==============================] - 6s 167ms/step - loss: 0.6933 - accuracy: 0.4638 - val_loss: 0.6930 - val_accuracy: 0.6522\n",
            "Epoch 2/10\n",
            "10/10 [==============================] - 0s 21ms/step - loss: 0.6931 - accuracy: 0.5201 - val_loss: 0.6944 - val_accuracy: 0.3478\n",
            "Epoch 3/10\n",
            "10/10 [==============================] - 0s 22ms/step - loss: 0.6928 - accuracy: 0.5266 - val_loss: 0.6956 - val_accuracy: 0.3478\n",
            "Epoch 4/10\n",
            "10/10 [==============================] - 0s 19ms/step - loss: 0.6927 - accuracy: 0.5266 - val_loss: 0.6968 - val_accuracy: 0.3478\n",
            "Epoch 5/10\n",
            "10/10 [==============================] - 0s 19ms/step - loss: 0.6925 - accuracy: 0.5266 - val_loss: 0.6978 - val_accuracy: 0.3478\n",
            "Epoch 6/10\n",
            "10/10 [==============================] - 0s 19ms/step - loss: 0.6924 - accuracy: 0.5266 - val_loss: 0.6987 - val_accuracy: 0.3478\n",
            "Epoch 7/10\n",
            "10/10 [==============================] - 0s 21ms/step - loss: 0.6924 - accuracy: 0.5266 - val_loss: 0.6997 - val_accuracy: 0.3478\n",
            "Epoch 8/10\n",
            "10/10 [==============================] - 0s 21ms/step - loss: 0.6922 - accuracy: 0.5266 - val_loss: 0.7003 - val_accuracy: 0.3478\n",
            "Epoch 9/10\n",
            "10/10 [==============================] - 0s 18ms/step - loss: 0.6922 - accuracy: 0.5266 - val_loss: 0.7014 - val_accuracy: 0.3478\n",
            "Epoch 10/10\n",
            "10/10 [==============================] - 0s 18ms/step - loss: 0.6921 - accuracy: 0.5266 - val_loss: 0.7019 - val_accuracy: 0.3478\n",
            "Training on DataFrame 2...\n",
            "Epoch 1/10\n",
            "7/7 [==============================] - 5s 180ms/step - loss: 0.6949 - accuracy: 0.4716 - val_loss: 0.7006 - val_accuracy: 0.3409\n",
            "Epoch 2/10\n",
            "7/7 [==============================] - 0s 22ms/step - loss: 0.6945 - accuracy: 0.4716 - val_loss: 0.6992 - val_accuracy: 0.3409\n",
            "Epoch 3/10\n",
            "7/7 [==============================] - 0s 20ms/step - loss: 0.6943 - accuracy: 0.4716 - val_loss: 0.6975 - val_accuracy: 0.3409\n",
            "Epoch 4/10\n",
            "7/7 [==============================] - 0s 25ms/step - loss: 0.6939 - accuracy: 0.4716 - val_loss: 0.6965 - val_accuracy: 0.3409\n",
            "Epoch 5/10\n",
            "7/7 [==============================] - 0s 19ms/step - loss: 0.6938 - accuracy: 0.4716 - val_loss: 0.6960 - val_accuracy: 0.3409\n",
            "Epoch 6/10\n",
            "7/7 [==============================] - 0s 19ms/step - loss: 0.6937 - accuracy: 0.4716 - val_loss: 0.6948 - val_accuracy: 0.3409\n",
            "Epoch 7/10\n",
            "7/7 [==============================] - 0s 20ms/step - loss: 0.6934 - accuracy: 0.4716 - val_loss: 0.6938 - val_accuracy: 0.3409\n",
            "Epoch 8/10\n",
            "7/7 [==============================] - 0s 19ms/step - loss: 0.6931 - accuracy: 0.5077 - val_loss: 0.6927 - val_accuracy: 0.6591\n",
            "Epoch 9/10\n",
            "7/7 [==============================] - 0s 21ms/step - loss: 0.6931 - accuracy: 0.5284 - val_loss: 0.6921 - val_accuracy: 0.6591\n",
            "Epoch 10/10\n",
            "7/7 [==============================] - 0s 18ms/step - loss: 0.6930 - accuracy: 0.5284 - val_loss: 0.6916 - val_accuracy: 0.6591\n",
            "Training on DataFrame 3...\n",
            "Epoch 1/10\n",
            "6/6 [==============================] - 5s 219ms/step - loss: 0.6927 - accuracy: 0.5368 - val_loss: 0.6939 - val_accuracy: 0.4634\n",
            "Epoch 2/10\n",
            "6/6 [==============================] - 0s 21ms/step - loss: 0.6924 - accuracy: 0.5368 - val_loss: 0.6942 - val_accuracy: 0.4634\n",
            "Epoch 3/10\n",
            "6/6 [==============================] - 0s 26ms/step - loss: 0.6922 - accuracy: 0.5368 - val_loss: 0.6944 - val_accuracy: 0.4634\n",
            "Epoch 4/10\n",
            "6/6 [==============================] - 0s 23ms/step - loss: 0.6921 - accuracy: 0.5368 - val_loss: 0.6947 - val_accuracy: 0.4634\n",
            "Epoch 5/10\n",
            "6/6 [==============================] - 0s 22ms/step - loss: 0.6918 - accuracy: 0.5368 - val_loss: 0.6950 - val_accuracy: 0.4634\n",
            "Epoch 6/10\n",
            "6/6 [==============================] - 0s 23ms/step - loss: 0.6917 - accuracy: 0.5368 - val_loss: 0.6953 - val_accuracy: 0.4634\n",
            "Epoch 7/10\n",
            "6/6 [==============================] - 0s 23ms/step - loss: 0.6916 - accuracy: 0.5368 - val_loss: 0.6956 - val_accuracy: 0.4634\n",
            "Epoch 8/10\n",
            "6/6 [==============================] - 0s 24ms/step - loss: 0.6915 - accuracy: 0.5368 - val_loss: 0.6959 - val_accuracy: 0.4634\n",
            "Epoch 9/10\n",
            "6/6 [==============================] - 0s 22ms/step - loss: 0.6913 - accuracy: 0.5368 - val_loss: 0.6960 - val_accuracy: 0.4634\n",
            "Epoch 10/10\n",
            "6/6 [==============================] - 0s 25ms/step - loss: 0.6913 - accuracy: 0.5368 - val_loss: 0.6962 - val_accuracy: 0.4634\n"
          ]
        }
      ]
    },
    {
      "cell_type": "code",
      "source": [
        "# Preprocess the test DataFrame\n",
        "# test_df['Date'] = pd.to_datetime(test_df['Date'])\n",
        "# test_df.set_index('Date', inplace=True)\n",
        "test_features = test_df[['open', 'high', 'close', 'sentiment', 'polarity', 'subjectivity']]\n",
        "test_labels = test_df['label']\n",
        "scaled_test_features = scaler.transform(test_features)\n",
        "test_X, test_y = create_sequences(scaled_test_features, test_labels, time_step=10)\n",
        "test_y = to_categorical(test_y)\n",
        "\n",
        "\n",
        "test_loss, test_accuracy = model.evaluate(test_X, test_y)\n",
        "print(f'Test Accuracy: {test_accuracy:.4f}')\n",
        "\n",
        "\n",
        "\n",
        "test_predict = model.predict(test_X)\n",
        "test_y_pred_classes = np.argmax(test_predict, axis=1)\n",
        "test_y_true = np.argmax(test_y, axis=1)\n",
        "\n",
        "\n",
        "print(classification_report(test_y_true, test_y_pred_classes))\n",
        "print(confusion_matrix(test_y_true, test_y_pred_classes))"
      ],
      "metadata": {
        "colab": {
          "base_uri": "https://localhost:8080/"
        },
        "id": "1zZRoM5j1AXV",
        "outputId": "fbeb1ea7-6e24-4e54-adc8-59e7de9c34ae"
      },
      "execution_count": null,
      "outputs": [
        {
          "output_type": "stream",
          "name": "stdout",
          "text": [
            "13/13 [==============================] - 0s 8ms/step - loss: 0.6949 - accuracy: 0.4828\n",
            "Test Accuracy: 0.4828\n",
            "13/13 [==============================] - 1s 5ms/step\n",
            "              precision    recall  f1-score   support\n",
            "\n",
            "           0       0.00      0.00      0.00       211\n",
            "           1       0.48      1.00      0.65       197\n",
            "\n",
            "    accuracy                           0.48       408\n",
            "   macro avg       0.24      0.50      0.33       408\n",
            "weighted avg       0.23      0.48      0.31       408\n",
            "\n",
            "[[  0 211]\n",
            " [  0 197]]\n"
          ]
        },
        {
          "output_type": "stream",
          "name": "stderr",
          "text": [
            "/usr/local/lib/python3.10/dist-packages/sklearn/metrics/_classification.py:1344: UndefinedMetricWarning: Precision and F-score are ill-defined and being set to 0.0 in labels with no predicted samples. Use `zero_division` parameter to control this behavior.\n",
            "  _warn_prf(average, modifier, msg_start, len(result))\n",
            "/usr/local/lib/python3.10/dist-packages/sklearn/metrics/_classification.py:1344: UndefinedMetricWarning: Precision and F-score are ill-defined and being set to 0.0 in labels with no predicted samples. Use `zero_division` parameter to control this behavior.\n",
            "  _warn_prf(average, modifier, msg_start, len(result))\n",
            "/usr/local/lib/python3.10/dist-packages/sklearn/metrics/_classification.py:1344: UndefinedMetricWarning: Precision and F-score are ill-defined and being set to 0.0 in labels with no predicted samples. Use `zero_division` parameter to control this behavior.\n",
            "  _warn_prf(average, modifier, msg_start, len(result))\n"
          ]
        }
      ]
    },
    {
      "cell_type": "code",
      "source": [],
      "metadata": {
        "id": "bNgSJNwY0MO0"
      },
      "execution_count": null,
      "outputs": []
    }
  ]
}